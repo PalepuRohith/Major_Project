{
  "nbformat": 4,
  "nbformat_minor": 0,
  "metadata": {
    "colab": {
      "provenance": [],
      "gpuType": "T4",
      "authorship_tag": "ABX9TyNTk7xfd+2GYLAK4s+c0zCW",
      "include_colab_link": true
    },
    "kernelspec": {
      "name": "python3",
      "display_name": "Python 3"
    },
    "language_info": {
      "name": "python"
    },
    "accelerator": "GPU"
  },
  "cells": [
    {
      "cell_type": "markdown",
      "metadata": {
        "id": "view-in-github",
        "colab_type": "text"
      },
      "source": [
        "<a href=\"https://colab.research.google.com/github/PalepuRohith/Major_Project/blob/main/MUTATION_CLASSIFICATION.ipynb\" target=\"_parent\"><img src=\"https://colab.research.google.com/assets/colab-badge.svg\" alt=\"Open In Colab\"/></a>"
      ]
    },
    {
      "cell_type": "code",
      "source": [
        "from google.colab import drive\n",
        "drive.mount('/content/drive')"
      ],
      "metadata": {
        "colab": {
          "base_uri": "https://localhost:8080/"
        },
        "id": "0oZr0ghPbCti",
        "outputId": "3bffe3c3-95da-4208-89d4-415bd021d311"
      },
      "execution_count": null,
      "outputs": [
        {
          "output_type": "stream",
          "name": "stdout",
          "text": [
            "Mounted at /content/drive\n"
          ]
        }
      ]
    },
    {
      "cell_type": "code",
      "source": [
        "import pandas as pd\n",
        "import numpy as np\n",
        "import torch\n",
        "from transformers import AutoTokenizer, BertForSequenceClassification\n",
        "from sklearn.model_selection import train_test_split\n",
        "from torch.utils.data import Dataset, DataLoader\n",
        "import torch.nn as nn\n",
        "import torch.optim as optim\n",
        "from sklearn.metrics import accuracy_score, f1_score, roc_auc_score\n",
        "import random\n",
        "from torch.optim.lr_scheduler import ReduceLROnPlateau\n",
        "from huggingface_hub import login\n"
      ],
      "metadata": {
        "id": "3pr0KUJq1Wkp"
      },
      "execution_count": null,
      "outputs": []
    },
    {
      "cell_type": "code",
      "source": [
        "!pip install transformers datasets"
      ],
      "metadata": {
        "id": "VXKeXRhfi5LF"
      },
      "execution_count": null,
      "outputs": []
    },
    {
      "cell_type": "code",
      "source": [
        "df = pd.read_csv(\"/content/humanvirus_updated.csv\")"
      ],
      "metadata": {
        "id": "QmaoPuW6i6J4"
      },
      "execution_count": null,
      "outputs": []
    },
    {
      "cell_type": "code",
      "source": [
        "def create_kmers(sequence, k=6):\n",
        "    \"\"\"Convert a DNA sequence into k-mer representation with size k.\"\"\"\n",
        "    return \" \".join([sequence[i : i + k] for i in range(len(sequence) - k + 1)])\n"
      ],
      "metadata": {
        "id": "csfVakfH10p7"
      },
      "execution_count": null,
      "outputs": []
    },
    {
      "cell_type": "code",
      "source": [
        "df[\"kmer_sequence\"] = df[\"Sequence\"].apply(lambda seq: create_kmers(seq, k=6))"
      ],
      "metadata": {
        "id": "W3p4mxXt19xB"
      },
      "execution_count": null,
      "outputs": []
    },
    {
      "cell_type": "code",
      "source": [
        "df[\"label\"] = df[\"mutation_class\"].map({\"wildtype\": 0, \"mutated\": 1})\n"
      ],
      "metadata": {
        "id": "UkuFr0dq2G8q"
      },
      "execution_count": null,
      "outputs": []
    },
    {
      "cell_type": "code",
      "source": [
        "tokenizer = AutoTokenizer.from_pretrained(\"zhihan1996/DNABERT-2-117M\")"
      ],
      "metadata": {
        "id": "lQ5aIrRhV2z1"
      },
      "execution_count": null,
      "outputs": []
    },
    {
      "cell_type": "code",
      "source": [],
      "metadata": {
        "id": "bIhTj3PHyCP6"
      },
      "execution_count": null,
      "outputs": []
    },
    {
      "cell_type": "code",
      "source": [
        "def tokenize_function(seq):\n",
        "    \"\"\"Tokenize and pad sequences using DNABERT-2.\"\"\"\n",
        "    encoded = tokenizer(\n",
        "        seq,\n",
        "        padding=\"max_length\",\n",
        "        truncation=True,\n",
        "        max_length=512,\n",
        "        return_tensors=\"pt\",\n",
        "    )\n",
        "    return {\"input_ids\": encoded[\"input_ids\"].squeeze(), \"attention_mask\": encoded[\"attention_mask\"].squeeze()}\n"
      ],
      "metadata": {
        "id": "ObeC4VhX2cWJ"
      },
      "execution_count": null,
      "outputs": []
    },
    {
      "cell_type": "code",
      "source": [
        "df[\"tokens\"] = df[\"kmer_sequence\"].apply(tokenize_function)\n"
      ],
      "metadata": {
        "id": "lQohl5dM2oEf"
      },
      "execution_count": null,
      "outputs": []
    },
    {
      "cell_type": "code",
      "source": [
        "df = df.dropna(subset=['label'])"
      ],
      "metadata": {
        "id": "mvdWaSIdIFLV"
      },
      "execution_count": null,
      "outputs": []
    },
    {
      "cell_type": "code",
      "source": [
        "train_texts, val_texts, train_labels, val_labels = train_test_split(\n",
        "    df[\"tokens\"], df[\"label\"], test_size=0.2, random_state=42, stratify=df[\"label\"]\n",
        ")\n"
      ],
      "metadata": {
        "id": "cyoQBPlR2r_Q"
      },
      "execution_count": null,
      "outputs": []
    },
    {
      "cell_type": "code",
      "source": [
        "class SequenceDataset(Dataset):\n",
        "    \"\"\"Custom Dataset for Sequence Classification\"\"\"\n",
        "    def __init__(self, texts, labels): # Changed _init_ to __init__\n",
        "        self.texts = texts\n",
        "        self.labels = labels\n",
        "\n",
        "    def __len__(self): # Changed _len_ to __len__\n",
        "        return len(self.labels)\n",
        "\n",
        "    def __getitem__(self, idx): # Changed _getitem_ to __getitem__\n",
        "        item = self.texts.iloc[idx]\n",
        "        return (\n",
        "            item[\"input_ids\"],\n",
        "            item[\"attention_mask\"],\n",
        "            torch.tensor(self.labels.iloc[idx], dtype=torch.float),\n",
        "        )"
      ],
      "metadata": {
        "id": "a0UAxYAE4kQM"
      },
      "execution_count": null,
      "outputs": []
    },
    {
      "cell_type": "code",
      "source": [
        "train_dataset = SequenceDataset(train_texts, train_labels)\n",
        "val_dataset = SequenceDataset(val_texts, val_labels)\n",
        "train_loader = DataLoader(train_dataset, batch_size=32, shuffle=True)\n",
        "val_loader = DataLoader(val_dataset, batch_size=32, shuffle=False)\n"
      ],
      "metadata": {
        "id": "GxA0yfTp21OS"
      },
      "execution_count": null,
      "outputs": []
    },
    {
      "cell_type": "code",
      "source": [
        "bert_model = BertForSequenceClassification.from_pretrained(\n",
        "    \"Peltarion/dnabert-minilm\", num_labels=1,output_hidden_states=True\n",
        ")"
      ],
      "metadata": {
        "id": "COVs8nvoVq3i"
      },
      "execution_count": null,
      "outputs": []
    },
    {
      "cell_type": "code",
      "source": [
        "class BERT_LSTM(nn.Module):\n",
        "    def __init__(self, bert_model):\n",
        "        super(BERT_LSTM, self).__init__()\n",
        "        self.bert = bert_model\n",
        "        self.lstm = nn.LSTM(\n",
        "            768, 128, num_layers=2, batch_first=True, bidirectional=True, dropout=0.3\n",
        "        )\n",
        "        self.dropout = nn.Dropout(0.4)\n",
        "        self.fc1 = nn.Linear(128 * 2, 128)  # Increased to 128 for more complexity\n",
        "        self.fc2 = nn.Linear(128, 64)\n",
        "        self.fc3 = nn.Linear(64, 1)\n",
        "\n",
        "    def forward(self, input_ids, attention_mask):\n",
        "        bert_output = self.bert(input_ids=input_ids, attention_mask=attention_mask)\n",
        "        bert_output = bert_output.hidden_states[-1]\n",
        "        lstm_output, _ = self.lstm(bert_output)\n",
        "        output = self.fc1(lstm_output[:, -1, :])\n",
        "        output = torch.relu(self.fc2(output))\n",
        "        output = self.fc3(output).squeeze()\n",
        "        return output"
      ],
      "metadata": {
        "id": "fpSo3wv04zu8"
      },
      "execution_count": null,
      "outputs": []
    },
    {
      "cell_type": "code",
      "source": [
        "batch_size = 32  # Increased batch size for stability\n",
        "learning_rate = 3e-5  # Lower learning rate for better convergence\n",
        "num_epochs = 8"
      ],
      "metadata": {
        "id": "y0gfpYb0Ewcj"
      },
      "execution_count": null,
      "outputs": []
    },
    {
      "cell_type": "code",
      "source": [
        "device = torch.device(\"cuda\" if torch.cuda.is_available() else \"cpu\")\n",
        "model = BERT_LSTM(bert_model).to(device)\n"
      ],
      "metadata": {
        "id": "LngWMK9x3SYf"
      },
      "execution_count": null,
      "outputs": []
    },
    {
      "cell_type": "code",
      "source": [
        "class_counts = df[\"label\"].value_counts().to_dict()\n",
        "# Check if both labels (0 and 1) are present in class_counts\n",
        "if 0 not in class_counts:\n",
        "    class_counts[0] = 0  # Assign a count of 0 if label 0 is missing\n",
        "if 1 not in class_counts:\n",
        "    class_counts[1] = 0  # Assign a count of 0 if label 1 is missing\n",
        "# Calculate weights, ensuring both labels are considered\n",
        "weights = [1.0 / class_counts[i] if class_counts[i] != 0 else 1.0 for i in range(2)]\n",
        "# If a label has 0 count, assign a weight of 1 to avoid division by zero\n",
        "class_weights = torch.tensor(weights).to(device)\n",
        "criterion = nn.BCEWithLogitsLoss(pos_weight=class_weights[1])"
      ],
      "metadata": {
        "id": "W1XCuQUvGPDn"
      },
      "execution_count": null,
      "outputs": []
    },
    {
      "cell_type": "code",
      "source": [
        "optimizer = optim.AdamW(model.parameters(), lr=learning_rate, weight_decay=0.01)\n",
        "scheduler = ReduceLROnPlateau(optimizer, mode=\"min\", factor=0.3, patience=2, verbose=True)"
      ],
      "metadata": {
        "id": "9AxNMiwEE6Hv"
      },
      "execution_count": null,
      "outputs": []
    },
    {
      "cell_type": "code",
      "source": [
        "early_stopping_patience = 3\n",
        "best_val_loss = float(\"inf\")\n",
        "patience_counter = 0"
      ],
      "metadata": {
        "id": "jVWqIpusE8zD"
      },
      "execution_count": null,
      "outputs": []
    },
    {
      "cell_type": "code",
      "source": [
        "def train_model(model, train_loader, val_loader, epochs=8):\n",
        "    global best_val_loss, patience_counter\n",
        "    for epoch in range(epochs):\n",
        "        model.train()\n",
        "        running_loss = 0.0\n",
        "        for batch in train_loader:\n",
        "            input_ids, attention_mask, labels = batch\n",
        "            input_ids, attention_mask, labels = (\n",
        "                input_ids.to(device),\n",
        "                attention_mask.to(device),\n",
        "                labels.to(device),\n",
        "            )\n",
        "\n",
        "            optimizer.zero_grad()\n",
        "            outputs = model(input_ids, attention_mask).squeeze()\n",
        "            loss = criterion(outputs, labels)\n",
        "            loss.backward()\n",
        "            torch.nn.utils.clip_grad_norm_(model.parameters(), max_norm=1.0)\n",
        "            optimizer.step()\n",
        "            running_loss += loss.item()\n",
        "\n",
        "        avg_loss = running_loss / len(train_loader)\n",
        "        print(f\"Epoch {epoch+1}/{epochs}, Training Loss: {avg_loss:.4f}\")\n",
        "\n",
        "        val_loss, val_acc, val_f1 = evaluate_model(model, val_loader)\n",
        "        print(f\"Validation - Loss: {val_loss:.4f}, Acc: {val_acc:.4f}, F1: {val_f1:.4f}\")\n",
        "\n",
        "        scheduler.step(val_loss)\n",
        "\n",
        "        # Early Stopping\n",
        "        if val_loss < best_val_loss:\n",
        "            best_val_loss = val_loss\n",
        "            patience_counter = 0\n",
        "            torch.save(model.state_dict(), \"best_model.pth\")  # Save best model\n",
        "        else:\n",
        "            patience_counter += 1\n",
        "            if patience_counter >= early_stopping_patience:\n",
        "                print(\"Early stopping triggered!\")\n",
        "                break\n"
      ],
      "metadata": {
        "id": "rSJliEgY3yOH"
      },
      "execution_count": null,
      "outputs": []
    },
    {
      "cell_type": "code",
      "source": [
        "def evaluate_model(model, val_loader):\n",
        "    model.eval()\n",
        "    val_loss, preds, true_labels = 0, [], []\n",
        "    with torch.no_grad():\n",
        "        for batch in val_loader:\n",
        "            input_ids, attention_mask, labels = batch\n",
        "            input_ids, attention_mask, labels = (\n",
        "                input_ids.to(device),\n",
        "                attention_mask.to(device),\n",
        "                labels.to(device),\n",
        "            )\n",
        "\n",
        "            outputs = model(input_ids, attention_mask).squeeze()\n",
        "            loss = criterion(outputs, labels)\n",
        "            val_loss += loss.item()\n",
        "\n",
        "            preds.extend(torch.sigmoid(outputs).cpu().numpy())\n",
        "            true_labels.extend(labels.cpu().numpy())\n",
        "\n",
        "    val_loss /= len(val_loader)\n",
        "    preds = np.array(preds)\n",
        "    acc = accuracy_score(true_labels, np.round(preds))\n",
        "    f1 = f1_score(true_labels, np.round(preds))\n",
        "    return val_loss, acc, f1"
      ],
      "metadata": {
        "id": "WhCp__mo35Qu"
      },
      "execution_count": null,
      "outputs": []
    },
    {
      "cell_type": "code",
      "source": [
        " train_model(model, train_loader, val_loader, epochs=5)"
      ],
      "metadata": {
        "id": "6RABnAIxVmNT"
      },
      "execution_count": null,
      "outputs": []
    },
    {
      "cell_type": "code",
      "source": [
        "val_loss, acc, f1, roc_auc = evaluate_model(model, val_loader)\n",
        "print(f\"Final Model - Accuracy: {acc:.4f}, F1-Score: {f1:.4f}, ROC-AUC: {roc_auc:.4f}\")"
      ],
      "metadata": {
        "id": "NGf2gU3p4GPf"
      },
      "execution_count": null,
      "outputs": []
    }
  ]
}